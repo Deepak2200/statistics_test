{
 "cells": [
  {
   "cell_type": "code",
   "execution_count": 1,
   "id": "756bd69d",
   "metadata": {},
   "outputs": [],
   "source": [
    "import numpy as np\n",
    "import statistics"
   ]
  },
  {
   "cell_type": "code",
   "execution_count": 17,
   "id": "2f7496b3",
   "metadata": {},
   "outputs": [],
   "source": [
    "Sample1=np.random.randint(1,15,8)"
   ]
  },
  {
   "cell_type": "code",
   "execution_count": 23,
   "id": "b923fcd0",
   "metadata": {},
   "outputs": [
    {
     "data": {
      "text/plain": [
       "8.375"
      ]
     },
     "execution_count": 23,
     "metadata": {},
     "output_type": "execute_result"
    }
   ],
   "source": [
    "np.mean(Sample1)"
   ]
  },
  {
   "cell_type": "code",
   "execution_count": 27,
   "id": "37207cd1",
   "metadata": {},
   "outputs": [],
   "source": [
    "Sample2=np.random.randint(1,15,8)"
   ]
  },
  {
   "cell_type": "code",
   "execution_count": 28,
   "id": "6690f2b6",
   "metadata": {},
   "outputs": [
    {
     "data": {
      "text/plain": [
       "9.25"
      ]
     },
     "execution_count": 28,
     "metadata": {},
     "output_type": "execute_result"
    }
   ],
   "source": [
    "np.mean(Sample2)"
   ]
  },
  {
   "cell_type": "code",
   "execution_count": 20,
   "id": "bc775080",
   "metadata": {},
   "outputs": [],
   "source": [
    "Sample3=np.random.randint(1,15,8)"
   ]
  },
  {
   "cell_type": "code",
   "execution_count": 26,
   "id": "56810ba2",
   "metadata": {},
   "outputs": [
    {
     "data": {
      "text/plain": [
       "8.75"
      ]
     },
     "execution_count": 26,
     "metadata": {},
     "output_type": "execute_result"
    }
   ],
   "source": [
    "np.mean(Sample3)"
   ]
  },
  {
   "cell_type": "code",
   "execution_count": 33,
   "id": "f60cf423",
   "metadata": {},
   "outputs": [],
   "source": [
    "N=24\n",
    "n=8\n",
    "a=3"
   ]
  },
  {
   "cell_type": "code",
   "execution_count": 34,
   "id": "f604aa27",
   "metadata": {},
   "outputs": [],
   "source": [
    "#degree of freedom\n",
    "df_between=a-1\n",
    "df_within=N-a\n",
    "df_total=N-1"
   ]
  },
  {
   "cell_type": "code",
   "execution_count": 37,
   "id": "4cb4e2bf",
   "metadata": {},
   "outputs": [
    {
     "name": "stdout",
     "output_type": "stream",
     "text": [
      "degree of freedom between the lavels : 2\n",
      "degree of freedom with in the lavels : 21\n",
      "degree of freedom of total : 23\n"
     ]
    }
   ],
   "source": [
    "print(f\"degree of freedom between the lavels : {df_between}\")\n",
    "print(f\"degree of freedom with in the lavels : {df_within}\")\n",
    "print(f\"degree of freedom of total : {df_total}\")"
   ]
  },
  {
   "cell_type": "code",
   "execution_count": 47,
   "id": "e9c85dea",
   "metadata": {},
   "outputs": [
    {
     "name": "stdout",
     "output_type": "stream",
     "text": [
      "2\n",
      "21\n"
     ]
    },
    {
     "data": {
      "text/plain": [
       "'based on this we take value from f-table we get region: 3.4668.means our values region in between {-3.4668 .3.4668}'"
      ]
     },
     "execution_count": 47,
     "metadata": {},
     "output_type": "execute_result"
    }
   ],
   "source": [
    "# decision \n",
    "print(df_between)\n",
    "print(df_within)\n",
    "\"\"\"based on this we take value from f-table we get region: 3.4668.means our values region in between {-3.4668 .3.4668}\"\"\""
   ]
  },
  {
   "cell_type": "code",
   "execution_count": 118,
   "id": "3ad7d932",
   "metadata": {},
   "outputs": [
    {
     "name": "stdout",
     "output_type": "stream",
     "text": [
      "if F>3.4668 than we reject null hypothesis.\n"
     ]
    }
   ],
   "source": [
    "print(\"if F>3.4668 than we reject null hypothesis.\")"
   ]
  },
  {
   "cell_type": "code",
   "execution_count": 51,
   "id": "5964f643",
   "metadata": {},
   "outputs": [],
   "source": [
    "from scipy.stats import f_oneway\n",
    "F, p = f_oneway(Sample1, Sample2, Sample3)"
   ]
  },
  {
   "cell_type": "code",
   "execution_count": 52,
   "id": "4c52526d",
   "metadata": {},
   "outputs": [
    {
     "data": {
      "text/plain": [
       "0.15352697095435683"
      ]
     },
     "execution_count": 52,
     "metadata": {},
     "output_type": "execute_result"
    }
   ],
   "source": [
    "F"
   ]
  },
  {
   "cell_type": "code",
   "execution_count": 53,
   "id": "8bbc9245",
   "metadata": {},
   "outputs": [
    {
     "data": {
      "text/plain": [
       "0.8586315422219414"
      ]
     },
     "execution_count": 53,
     "metadata": {},
     "output_type": "execute_result"
    }
   ],
   "source": [
    "p"
   ]
  },
  {
   "cell_type": "code",
   "execution_count": 64,
   "id": "6fc23b22",
   "metadata": {},
   "outputs": [
    {
     "name": "stdout",
     "output_type": "stream",
     "text": [
      "we do not reject null hypothesis\n"
     ]
    }
   ],
   "source": [
    "if F>=3.4668:\n",
    "    print(\"Reject null hypothesis\")\n",
    "else:\n",
    "    print(\"we do not reject null hypothesis\")"
   ]
  },
  {
   "cell_type": "code",
   "execution_count": 65,
   "id": "7af1ab9b",
   "metadata": {},
   "outputs": [],
   "source": [
    "#example"
   ]
  },
  {
   "cell_type": "code",
   "execution_count": 69,
   "id": "09f56071",
   "metadata": {},
   "outputs": [],
   "source": [
    "l1=[9, 8, 7, 8, 8, 9, 8]\n",
    "l2=[7, 6, 6, 7, 8, 7, 6]\n",
    "l3=[4, 3, 2, 3, 4, 3, 2]"
   ]
  },
  {
   "cell_type": "code",
   "execution_count": 70,
   "id": "eed4d380",
   "metadata": {},
   "outputs": [
    {
     "data": {
      "text/plain": [
       "8.142857142857142"
      ]
     },
     "execution_count": 70,
     "metadata": {},
     "output_type": "execute_result"
    }
   ],
   "source": [
    "np.mean(l1)"
   ]
  },
  {
   "cell_type": "code",
   "execution_count": 71,
   "id": "38fce2f4",
   "metadata": {},
   "outputs": [
    {
     "data": {
      "text/plain": [
       "6.714285714285714"
      ]
     },
     "execution_count": 71,
     "metadata": {},
     "output_type": "execute_result"
    }
   ],
   "source": [
    "np.mean(l2)"
   ]
  },
  {
   "cell_type": "code",
   "execution_count": 72,
   "id": "9e9e6b7d",
   "metadata": {},
   "outputs": [
    {
     "data": {
      "text/plain": [
       "3.0"
      ]
     },
     "execution_count": 72,
     "metadata": {},
     "output_type": "execute_result"
    }
   ],
   "source": [
    "np.mean(l3)"
   ]
  },
  {
   "cell_type": "code",
   "execution_count": 73,
   "id": "7c4baf73",
   "metadata": {},
   "outputs": [],
   "source": [
    "alpha=0.05\n",
    "#c.I.=95%"
   ]
  },
  {
   "cell_type": "code",
   "execution_count": null,
   "id": "a979c03c",
   "metadata": {},
   "outputs": [],
   "source": [
    "alpha=categary_of data like (l1,l2,l3)=3\n",
    "N=total number of count=21\n",
    "\n",
    "dof=N-1(for population data)\n"
   ]
  },
  {
   "cell_type": "code",
   "execution_count": 74,
   "id": "5dadada6",
   "metadata": {},
   "outputs": [],
   "source": [
    "a=3\n",
    "N=21\n",
    "\n",
    "#degree of freedom\n",
    "df_between=a-1\n",
    "df_within=N-a\n",
    "df_total=N-1"
   ]
  },
  {
   "cell_type": "code",
   "execution_count": 75,
   "id": "d9a4f0e6",
   "metadata": {},
   "outputs": [
    {
     "data": {
      "text/plain": [
       "2"
      ]
     },
     "execution_count": 75,
     "metadata": {},
     "output_type": "execute_result"
    }
   ],
   "source": [
    "df_between"
   ]
  },
  {
   "cell_type": "code",
   "execution_count": 76,
   "id": "158d60c2",
   "metadata": {},
   "outputs": [
    {
     "data": {
      "text/plain": [
       "18"
      ]
     },
     "execution_count": 76,
     "metadata": {},
     "output_type": "execute_result"
    }
   ],
   "source": [
    "df_within"
   ]
  },
  {
   "cell_type": "code",
   "execution_count": 77,
   "id": "135b6559",
   "metadata": {},
   "outputs": [
    {
     "data": {
      "text/plain": [
       "20"
      ]
     },
     "execution_count": 77,
     "metadata": {},
     "output_type": "execute_result"
    }
   ],
   "source": [
    "df_total"
   ]
  },
  {
   "cell_type": "markdown",
   "id": "2bb7c56f",
   "metadata": {},
   "source": [
    "# Decison Rule:-\n",
    "\n",
    "# If F-test is greater than 3.5546 we reject null hypothesis"
   ]
  },
  {
   "cell_type": "code",
   "execution_count": 19,
   "id": "0a8d2840",
   "metadata": {},
   "outputs": [],
   "source": [
    "#calculate F-test statistics\n",
    "between\n",
    "within\n",
    "total\n"
   ]
  },
  {
   "cell_type": "code",
   "execution_count": 25,
   "id": "6a07a24a",
   "metadata": {},
   "outputs": [],
   "source": [
    "n=7"
   ]
  },
  {
   "cell_type": "code",
   "execution_count": 78,
   "id": "51d2cdd8",
   "metadata": {},
   "outputs": [],
   "source": [
    "N=21"
   ]
  },
  {
   "cell_type": "code",
   "execution_count": 80,
   "id": "ab92c541",
   "metadata": {},
   "outputs": [
    {
     "name": "stdout",
     "output_type": "stream",
     "text": [
      "57\n",
      "47\n",
      "21\n"
     ]
    }
   ],
   "source": [
    "print(sum(l1))\n",
    "print(sum(l2))\n",
    "print(sum(l3))"
   ]
  },
  {
   "cell_type": "code",
   "execution_count": 27,
   "id": "1a5f384d",
   "metadata": {},
   "outputs": [],
   "source": [
    "Ai=(57)**2+(47)**2+(21)**2"
   ]
  },
  {
   "cell_type": "code",
   "execution_count": 32,
   "id": "9f73415a",
   "metadata": {},
   "outputs": [],
   "source": [
    "sum_square=Ai/n"
   ]
  },
  {
   "cell_type": "code",
   "execution_count": 29,
   "id": "df96e453",
   "metadata": {},
   "outputs": [],
   "source": [
    "T=125**2"
   ]
  },
  {
   "cell_type": "code",
   "execution_count": 33,
   "id": "5e4f6bf5",
   "metadata": {},
   "outputs": [],
   "source": [
    "T=T/N"
   ]
  },
  {
   "cell_type": "code",
   "execution_count": 34,
   "id": "6dfb8648",
   "metadata": {},
   "outputs": [],
   "source": [
    "sum_of_square=sum_square-T"
   ]
  },
  {
   "cell_type": "code",
   "execution_count": 35,
   "id": "f0714350",
   "metadata": {},
   "outputs": [
    {
     "data": {
      "text/plain": [
       "98.66666666666663"
      ]
     },
     "execution_count": 35,
     "metadata": {},
     "output_type": "execute_result"
    }
   ],
   "source": [
    "sum_of_square"
   ]
  },
  {
   "cell_type": "code",
   "execution_count": 38,
   "id": "3eb42d6e",
   "metadata": {},
   "outputs": [],
   "source": [
    "ss_within=sum_of_y-sum_square"
   ]
  },
  {
   "cell_type": "code",
   "execution_count": 39,
   "id": "049dbd66",
   "metadata": {},
   "outputs": [
    {
     "data": {
      "text/plain": [
       "10.285714285714334"
      ]
     },
     "execution_count": 39,
     "metadata": {},
     "output_type": "execute_result"
    }
   ],
   "source": [
    "ss_within"
   ]
  },
  {
   "cell_type": "code",
   "execution_count": 106,
   "id": "81db95f5",
   "metadata": {},
   "outputs": [],
   "source": [
    "l1_y=lambda x:x**2\n",
    "l2_y=lambda x:x**2\n",
    "l3_y=lambda x:x**2"
   ]
  },
  {
   "cell_type": "code",
   "execution_count": 107,
   "id": "63c44990",
   "metadata": {},
   "outputs": [],
   "source": [
    "k=list(map(l1_y,l1))\n",
    "l=list(map(l2_y,l2))\n",
    "m=list(map(l3_y,l3))"
   ]
  },
  {
   "cell_type": "code",
   "execution_count": 114,
   "id": "9873027d",
   "metadata": {},
   "outputs": [],
   "source": [
    "suare_sum_l1=sum(k)\n",
    "suare_sum_l2=sum(l)\n",
    "suare_sum_l3=sum(m)\n"
   ]
  },
  {
   "cell_type": "code",
   "execution_count": 115,
   "id": "8c123125",
   "metadata": {},
   "outputs": [],
   "source": [
    "sum_of_y=suare_sum_l1+suare_sum_l2+suare_sum_l3"
   ]
  },
  {
   "cell_type": "code",
   "execution_count": 116,
   "id": "fc720aa9",
   "metadata": {},
   "outputs": [
    {
     "data": {
      "text/plain": [
       "853"
      ]
     },
     "execution_count": 116,
     "metadata": {},
     "output_type": "execute_result"
    }
   ],
   "source": [
    "sum_of_y"
   ]
  },
  {
   "cell_type": "code",
   "execution_count": 36,
   "id": "2808f5d7",
   "metadata": {},
   "outputs": [],
   "source": [
    "#manuwal way\n",
    "sum_of_y=9**2+8**2+7**2+8**2+8**2+9**2+8**2+7**2+6**2+6**2+7**2+8**2+7**2+6**2+4**2+3**2+2**2+3**2+4**2+3**2+2**2"
   ]
  },
  {
   "cell_type": "code",
   "execution_count": 37,
   "id": "39f20737",
   "metadata": {},
   "outputs": [
    {
     "data": {
      "text/plain": [
       "853"
      ]
     },
     "execution_count": 37,
     "metadata": {},
     "output_type": "execute_result"
    }
   ],
   "source": [
    "sum_of_y"
   ]
  },
  {
   "cell_type": "code",
   "execution_count": 54,
   "id": "7b2bff05",
   "metadata": {},
   "outputs": [],
   "source": [
    "#F-test\n",
    "f_test=ms_between/ms_within"
   ]
  },
  {
   "cell_type": "code",
   "execution_count": 55,
   "id": "07886c27",
   "metadata": {},
   "outputs": [
    {
     "data": {
      "text/plain": [
       "86.33333333333289"
      ]
     },
     "execution_count": 55,
     "metadata": {},
     "output_type": "execute_result"
    }
   ],
   "source": [
    "f_test"
   ]
  },
  {
   "cell_type": "code",
   "execution_count": 51,
   "id": "63e0eea9",
   "metadata": {},
   "outputs": [
    {
     "data": {
      "text/plain": [
       "49.333333333333314"
      ]
     },
     "execution_count": 51,
     "metadata": {},
     "output_type": "execute_result"
    }
   ],
   "source": [
    "ms_between=sum_of_square/df_between\n",
    "ms_between"
   ]
  },
  {
   "cell_type": "code",
   "execution_count": 52,
   "id": "d255b7c5",
   "metadata": {},
   "outputs": [],
   "source": [
    "ms_within=ss_within/df_within"
   ]
  },
  {
   "cell_type": "code",
   "execution_count": 53,
   "id": "8106a46d",
   "metadata": {},
   "outputs": [
    {
     "data": {
      "text/plain": [
       "0.5714285714285742"
      ]
     },
     "execution_count": 53,
     "metadata": {},
     "output_type": "execute_result"
    }
   ],
   "source": [
    "ms_within"
   ]
  },
  {
   "cell_type": "code",
   "execution_count": 15,
   "id": "32acbc26",
   "metadata": {},
   "outputs": [],
   "source": [
    "#by one _way function\n",
    "from scipy.stats import f_oneway\n",
    "F, p = f_oneway(l1, l2, l3)"
   ]
  },
  {
   "cell_type": "code",
   "execution_count": 17,
   "id": "5694229b",
   "metadata": {},
   "outputs": [
    {
     "data": {
      "text/plain": [
       "86.3333333333334"
      ]
     },
     "execution_count": 17,
     "metadata": {},
     "output_type": "execute_result"
    }
   ],
   "source": [
    "F"
   ]
  },
  {
   "cell_type": "code",
   "execution_count": 18,
   "id": "5614680c",
   "metadata": {},
   "outputs": [
    {
     "data": {
      "text/plain": [
       "5.956341358737432e-10"
      ]
     },
     "execution_count": 18,
     "metadata": {},
     "output_type": "execute_result"
    }
   ],
   "source": [
    "p"
   ]
  },
  {
   "cell_type": "markdown",
   "id": "96520bd2",
   "metadata": {},
   "source": [
    "#final conclusion:-\n",
    "# 86.56 > 3.5546 so we reject the null hypothesis"
   ]
  },
  {
   "cell_type": "code",
   "execution_count": null,
   "id": "cc72ebfd",
   "metadata": {},
   "outputs": [],
   "source": []
  }
 ],
 "metadata": {
  "kernelspec": {
   "display_name": "Python 3 (ipykernel)",
   "language": "python",
   "name": "python3"
  },
  "language_info": {
   "codemirror_mode": {
    "name": "ipython",
    "version": 3
   },
   "file_extension": ".py",
   "mimetype": "text/x-python",
   "name": "python",
   "nbconvert_exporter": "python",
   "pygments_lexer": "ipython3",
   "version": "3.9.13"
  }
 },
 "nbformat": 4,
 "nbformat_minor": 5
}
